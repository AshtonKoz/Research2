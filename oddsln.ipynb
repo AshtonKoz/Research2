{
 "cells": [
  {
   "cell_type": "code",
   "execution_count": 1,
   "id": "22496fd6-f01f-4aa2-a77c-1f29b7eda5d2",
   "metadata": {},
   "outputs": [],
   "source": [
    "import numpy as np\n",
    "import matplotlib.pyplot as plt\n",
    "import math\n",
    "import cmath\n",
    "import scipy\n",
    "from scipy import interpolate\n",
    "h = 6.62607015e-34 #Planck's constant in Js\n",
    "h_eV = h/1.6022e-19 #Planck's constant in eVs\n",
    "hbar = h/(2*np.pi) #reduced Planck's constant\n",
    "m = 9.1093837e-31 #electron mass in kg\n",
    "s = 10000 #iterator number where neccessary\n",
    "a = 10 #length of box from -a/2 to a/2\n",
    "j = cmath.sqrt(-1)\n",
    "Eparticle = np.linspace(5e-41,5e-41,s) #J\n",
    "well_potential = np.linspace(-5e-38,-1e-50,s) #J"
   ]
  },
  {
   "cell_type": "code",
   "execution_count": 2,
   "id": "dd25fcf4-fc82-4f26-8869-e17a4f16747e",
   "metadata": {},
   "outputs": [],
   "source": [
    "def bisection(f, d, b, tol=1e-6):\n",
    "    \"\"\"\n",
    "    Find a root of f(x) in the interval a<x<b, using bisection search.\n",
    "\n",
    "    A valid interval must have a < b, and f(a) and f(b) must have opposite signs.\n",
    "\n",
    "    Returns: \n",
    "        A root of x0, i.e. a solution to f(x0) = 0.\n",
    "\n",
    "    Args:\n",
    "        f: function to be studied; should take one argument.\n",
    "        a: lower end of search interval\n",
    "        b: upper end of search interval\n",
    "\n",
    "        tol: error tolerance for result (default: 1e-6)\n",
    "\n",
    "     If either f(d) or f(b) is zero, then we already have a solution! \"\"\"\n",
    "    \n",
    "    if f(d) == 0:\n",
    "        return a\n",
    "    if f(b) == 0:\n",
    "        return b\n",
    "\n",
    "    # Spot check for valid interval\n",
    "    assert b>d\n",
    "    if f(b) / f(d) > 0:\n",
    "        return 'invalid interval'\n",
    "\n",
    "    while (b-d) > tol:\n",
    "        c = (d+b)/2\n",
    "        if f(c) / f(d) < 0:\n",
    "            # c and a have opposite sign: new interval is [d,c]\n",
    "            b = c\n",
    "        elif f(c) / f(b) < 0:\n",
    "            # c and b have opposite sign: new interval is [c,b]\n",
    "            d = c\n",
    "        else:\n",
    "            # Only other possibility is that f(c) was exactly zero!\n",
    "            return c\n",
    "    else:\n",
    "        return (d+b)/2  # Think: why not `return c`?"
   ]
  },
  {
   "cell_type": "code",
   "execution_count": 3,
   "id": "5e684b91-c4d9-422a-b60d-0a9433e09d84",
   "metadata": {},
   "outputs": [],
   "source": [
    "def KinEnergy(z_zeros):\n",
    "    E = []\n",
    "    for i in range(len(z_zeros)):\n",
    "        z = z_zeros[i]\n",
    "        num = (z**2)*(hbar**2)\n",
    "        den = (2*m)*(a**2)\n",
    "        KE = num/den\n",
    "        E.append(KE)  \n",
    "    return E\n",
    "def l(Energy_array): #Finds an array of wave numbers k\n",
    "    l = (1/hbar)*np.sqrt(2*m*(Energy_array - well_potential))\n",
    "    return l"
   ]
  },
  {
   "cell_type": "code",
   "execution_count": 1237,
   "id": "fc9dee18-1c80-4112-89e3-85c7e8c14206",
   "metadata": {},
   "outputs": [
    {
     "name": "stderr",
     "output_type": "stream",
     "text": [
      "C:\\Users\\nienn\\AppData\\Local\\Temp\\ipykernel_2932\\3101896294.py:15: RuntimeWarning: invalid value encountered in sqrt\n",
      "  sqrt0 = np.sqrt((zo_Vo/zo)**2 - 1)\n"
     ]
    }
   ],
   "source": [
    "highest_zodd = []\n",
    "for i in range(len(well_potential)-2):\n",
    "\n",
    "#Calculate zo, z, and range to iterate over for a paticular Vo\n",
    "    zo_Vo = (a/hbar)*np.sqrt(2*m*-1*(well_potential[i]))\n",
    "    Erange = np.linspace(well_potential[i]+1e-40, -1e-60,s)\n",
    "    def wave_l(Energy_array): #Finds an array of wave numbers k\n",
    "        wave_nums = (1/hbar)*np.sqrt(2*m*(Energy_array - well_potential[i]))\n",
    "        return wave_nums\n",
    "    zrange = a*wave_l(Erange)\n",
    "    \n",
    "    \n",
    "    def y_diffodd(zo):\n",
    "        cot = (1/np.tan(zo))\n",
    "        sqrt0 = np.sqrt((zo_Vo/zo)**2 - 1)\n",
    "        diffodd = cot + sqrt0\n",
    "        return diffodd  \n",
    "    \n",
    "#Iterate through all Vo's and find highest z -- highest eigenstate\n",
    "\n",
    "   # if i == 0:\n",
    "        #print(zrange2)\n",
    "        #plt.plot(zrange2, y_diff2(zrange2), color = 'gold')\n",
    "       # plt.plot(zrange, np.zeros_like(zrange), color = 'black')\n",
    "   \n",
    "   # if 1295 <= i <= 4000:\n",
    "    #    plt.plot(zrange,y_diffodd(zrange))    \n",
    "   # if i == 9245:\n",
    "      #  plt.plot(zrange,y_diffodd(zrange))\n",
    "    if 0 <= i <= 975:\n",
    "        z_maximumodd = bisection(y_diffodd,25.5,zrange[-242])\n",
    "        highest_zodd.append(z_maximumodd)\n",
    "    if 976 <= i <= 1294:\n",
    "        z_maximumodd = bisection(y_diffodd,25.5,zrange[-1])\n",
    "        highest_zodd.append(z_maximumodd)\n",
    "    if 1295 <= i <= 2123:\n",
    "        z_maximumodd = bisection(y_diffodd,22.5,zrange[-1145])\n",
    "        highest_zodd.append(z_maximumodd)\n",
    "    if 2124 <= i <= 2991:\n",
    "        z_maximumodd = bisection(y_diffodd,22.5,zrange[-211])\n",
    "        highest_zodd.append(z_maximumodd)\n",
    "    if 2992 <= i <= 3221:\n",
    "        z_maximumodd = bisection(y_diffodd,22.5,zrange[-1])\n",
    "        highest_zodd.append(z_maximumodd)\n",
    "    if 3222 <= i <= 3943:\n",
    "        z_maximumodd = bisection(y_diffodd,19.5,zrange[-1294])\n",
    "        highest_zodd.append(z_maximumodd)\n",
    "    if 3944 <= i <= 4696:\n",
    "        z_maximumodd = bisection(y_diffodd,19.5,zrange[-252])\n",
    "        highest_zodd.append(z_maximumodd)\n",
    "    if 4697 <= i <= 4909:\n",
    "        z_maximumodd = bisection(y_diffodd,19.5,zrange[-1])\n",
    "        highest_zodd.append(z_maximumodd)\n",
    "    if 4910 <= i <= 5525:\n",
    "        z_maximumodd = bisection(y_diffodd,16.25,zrange[-1484])\n",
    "        highest_zodd.append(z_maximumodd)\n",
    "    if 5526 <= i <= 6163:\n",
    "        z_maximumodd = bisection(y_diffodd,16.25,zrange[-306])\n",
    "        highest_zodd.append(z_maximumodd)\n",
    "    if 6164 <= i <= 6354:\n",
    "        z_maximumodd = bisection(y_diffodd,16.25,zrange[-1])\n",
    "        highest_zodd.append(z_maximumodd)\n",
    "    if 6355 <= i <= 6865:\n",
    "        z_maximumodd = bisection(y_diffodd,13.5,zrange[-1745])\n",
    "        highest_zodd.append(z_maximumodd)\n",
    "    if 6866 <= i <= 7389:\n",
    "        z_maximumodd = bisection(y_diffodd,13.5,zrange[-390])\n",
    "        highest_zodd.append(z_maximumodd)\n",
    "    if 7390 <= i <= 7559:\n",
    "        z_maximumodd = bisection(y_diffodd,13.5,zrange[-1])\n",
    "        highest_zodd.append(z_maximumodd)\n",
    "    if 7560 <= i <= 7967:\n",
    "        z_maximumodd = bisection(y_diffodd,9.9,zrange[-2115])\n",
    "        highest_zodd.append(z_maximumodd)\n",
    "    if 7968 <= i <= 8379:\n",
    "        z_maximumodd = bisection(y_diffodd,9.9,zrange[-515])\n",
    "        highest_zodd.append(z_maximumodd)\n",
    "    if 8380 <= i <= 8524:\n",
    "        z_maximumodd = bisection(y_diffodd,9.9,zrange[-1])\n",
    "        highest_zodd.append(z_maximumodd)\n",
    "    if 8525 <= i <= 8831:\n",
    "        z_maximumodd = bisection(y_diffodd,6.5,zrange[-2681])\n",
    "        highest_zodd.append(z_maximumodd)\n",
    "    if 8832 <= i <= 9132:\n",
    "        z_maximumodd = bisection(y_diffodd,6.5,zrange[-722])\n",
    "        highest_zodd.append(z_maximumodd)\n",
    "    if 9133 <= i <= 9245:\n",
    "        z_maximumodd = bisection(y_diffodd,6.5,zrange[-1])\n",
    "        highest_zodd.append(z_maximumodd)\n",
    "    if 9246 <= i <= 9455:\n",
    "        z_maximumodd = bisection(y_diffodd,3.5,zrange[-3699])\n",
    "        highest_zodd.append(z_maximumodd)\n",
    "    if 9456 <= i <= 9649:\n",
    "        z_maximumodd = bisection(y_diffodd,3.5,zrange[-1169])\n",
    "        highest_zodd.append(z_maximumodd)\n",
    "    if 9650 <= i <= 9727:\n",
    "        z_maximumodd = bisection(y_diffodd,3.5,zrange[-1])\n",
    "        highest_zodd.append(z_maximumodd)\n",
    "   # if i == 9727:\n",
    "    #    print(zrange[-1])\n",
    "     #   print(bisection(y_diffodd,3.5,zrange[-1]))\n",
    "\n",
    "\n",
    "\n",
    "#plt.xlim(3,6.5)\n",
    "#plt.ylim(-2,2)"
   ]
  },
  {
   "cell_type": "code",
   "execution_count": 1241,
   "id": "0163eb3e-c37e-40ef-9c4f-c2033343519f",
   "metadata": {},
   "outputs": [
    {
     "name": "stdout",
     "output_type": "stream",
     "text": [
      "9245\n"
     ]
    }
   ],
   "source": [
    "#print(highest_zodd)\n",
    "tol = 1e-12\n",
    "for w in range(len(highest_zodd)):\n",
    "      if highest_zodd[w] ==  7.859051892971929:\n",
    "          print(w)\n",
    "     # if highest_zo[w] == 22.378522019372674:\n",
    "      #    print(w)"
   ]
  },
  {
   "cell_type": "code",
   "execution_count": 1243,
   "id": "3909d00c-1eae-4736-be0d-5a01456659ce",
   "metadata": {},
   "outputs": [],
   "source": [
    "KinEnodd = KinEnergy(highest_zodd)\n",
    "#print(KinEn)\n",
    "EBSNTodd = []\n",
    "for i in range(len(KinEnodd)):\n",
    "    E1odd = (KinEnodd[i] + well_potential[i])\n",
    "    EBSNTodd.append(E1odd)\n",
    "#for j in range(len(KinEn) - 1):\n",
    "   # if KinEn[j+1] < KinEn[j]:\n",
    "     #   print(j)\n",
    "#print(EBSNT)"
   ]
  },
  {
   "cell_type": "code",
   "execution_count": 1245,
   "id": "c402ff24-27a2-44b5-9339-054a2e1433ee",
   "metadata": {},
   "outputs": [
    {
     "data": {
      "text/plain": [
       "Text(0, 0.5, 'Bound state energy nearest threshold')"
      ]
     },
     "execution_count": 1245,
     "metadata": {},
     "output_type": "execute_result"
    },
    {
     "data": {
      "image/png": "[encoded data removed]",
      "text/plain": [
       "<Figure size 640x480 with 1 Axes>"
      ]
     },
     "metadata": {},
     "output_type": "display_data"
    }
   ],
   "source": [
    "ints = np.arange(1,19,1)\n",
    "VooT = []\n",
    "for i in range(len(ints)):\n",
    "    Voo = max(Eparticle) + -((ints[i]*np.pi*hbar)**2)/(8*m*a**2)\n",
    "    VooT.append(Voo)\n",
    "    plt.axvline(VooT[i], color = 'black', linestyle = 'dashed')\n",
    "plt.plot(well_potential[0:len(EBSNTodd)], EBSNTodd, color = 'gold')\n",
    "plt.xlabel('Vo')\n",
    "plt.ylabel('Bound state energy nearest threshold')"
   ]
  },
  {
   "cell_type": "code",
   "execution_count": null,
   "id": "8a487a5a-1820-4126-9dfe-83d010aaf11a",
   "metadata": {},
   "outputs": [],
   "source": []
  }
 ],
 "metadata": {
  "kernelspec": {
   "display_name": "Python 3 (ipykernel)",
   "language": "python",
   "name": "python3"
  },
  "language_info": {
   "codemirror_mode": {
    "name": "ipython",
    "version": 3
   },
   "file_extension": ".py",
   "mimetype": "text/x-python",
   "name": "python",
   "nbconvert_exporter": "python",
   "pygments_lexer": "ipython3",
   "version": "3.12.4"
  }
 },
 "nbformat": 4,
 "nbformat_minor": 5
}
