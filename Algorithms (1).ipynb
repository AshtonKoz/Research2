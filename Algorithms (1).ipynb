{
 "cells": [
  {
   "cell_type": "code",
   "execution_count": 22,
   "id": "946af3ac-0cd5-4ae2-8cda-443af2e11666",
   "metadata": {},
   "outputs": [],
   "source": [
    "import numpy as np\n",
    "from numpy import linalg\n",
    "import matplotlib.pyplot as plt\n",
    "import math\n",
    "import cmath\n",
    "import scipy\n",
    "import scipy.interpolate as interpolate\n",
    "import scipy.integrate as integrate\n",
    "import scipy.special as special\n",
    "import numpy.ma as ma\n",
    "#np.set_printoptions(threshold=sys.maxsize)\n",
    "pts = 5000 # number of iterator steps where neccessary\n",
    "H_to_K = 1/0.000003166808534191 # conversion of Henries to Kelvin\n",
    "tol = 1e-6 # tolerance where neccessary"
   ]
  },
  {
   "cell_type": "code",
   "execution_count": 24,
   "id": "62d34e55-33e2-433d-8646-227227a27f83",
   "metadata": {},
   "outputs": [],
   "source": [
    "r = np.linspace(4,60, pts) # range of r values to iterate over, 4 -> 60 Bohr radii\n",
    "dr = r[1] - r[0] # spacing dr\n",
    "C12 = 3.05e8 # C12 coefficient in Eh*ao\n",
    "C6 = 4710 # C6 coefficient in Eh*ao\n",
    "Vr = (C12/(r**12)) - (C6/(r**6)) # standard Lennard-Jones interatomic potential\n",
    "Eo = 3.166808534191e-12 # inital particle energy, 1uK in Hartrees\n",
    "me = 9.1093837e-28 # electron mass in grams\n",
    "mrb_g = 1.4192261e-22 # rubidium mass in grams\n",
    "mrb = mrb_g/me # rubidium mass in au\n",
    "mu = (mrb**2)/(2*mrb) # reduced mass of rubidium\n",
    "hbar = 1.0546e-27 # reduced Planck constant in cgs\n",
    "e = 4.8032e-10 # electron charge in cgs\n",
    "ao = (hbar**2)/(me*e**2) # Bohr radius in cgs"
   ]
  },
  {
   "cell_type": "markdown",
   "id": "dd8ac5ab-4de5-4ca1-87d2-5ee1ee5b0072",
   "metadata": {},
   "source": [
    "# Generic DVR for finding bound states (E < 0)\n",
    "### for a coordinate x in a 'box' from a to b, we can use r from r1 to r2, where r1 is small enough to see the wave function diminish to zero and r2 large enough to get all the bound states"
   ]
  },
  {
   "cell_type": "markdown",
   "id": "44f84ed0-21db-4ee5-9e10-7479607f048a",
   "metadata": {},
   "source": [
    "## $ x \\in (a,b) $, $x_{i} = a + \\frac{(b-a)i}{N}, i = 1,2,..,N-1$, $dx = \\frac{(b-a)}{N}$"
   ]
  },
  {
   "cell_type": "markdown",
   "id": "2da28a56-fc3f-4a6c-99d5-6dcb113389b1",
   "metadata": {},
   "source": [
    "## $ T_{ij} = \\frac{1}{2} \\frac{(-1)^{i-j}}{(b-a)^2} \\frac{\\pi^2}{2} [\\frac{1}{sin^2(\\frac{\\pi (i-j)}{2N})} - \\frac{1}{sin^2(\\frac{\\pi (i+j)}{2N})}] $\n",
    "## $ T_{ii} = \\frac{1}{(b-a)^2} \\frac{\\pi^2}{4} [\\frac{2N^2 + 1}{3} - \\frac{1}{sin^2(\\frac{\\pi i}{N})}]$\n",
    "## $ V_{ii} = V(x_i) $\n",
    "## $ H_{ii} = T_{ii} + V_{ii}$\n",
    "## $ H_{ij} = T_{ij}$"
   ]
  },
  {
   "cell_type": "markdown",
   "id": "34fdb8fd-aad6-4f6e-9a23-3e531a4f4963",
   "metadata": {},
   "source": [
    "## $H_{ii} = \\frac{1}{(b-a)^2} \\frac{\\pi^2}{4 \\mu} [\\frac{2N^2 + 1}{3} - \\frac{1}{sin^2(\\frac{\\pi i}{N})}] + \\frac{C_{12}}{r_{i}^{12}} - \\frac{C_{6}}{r_{i}^6} $\n",
    "## $ H_{ij} = \\frac{(-1)^{i-j}}{(b-a)^2} \\frac{\\pi^2}{4\\mu} [\\frac{1}{sin^2(\\frac{\\pi (i-j)}{2N})} - \\frac{1}{sin^2(\\frac{\\pi (i+j)}{2N})}] $"
   ]
  },
  {
   "cell_type": "code",
   "execution_count": 37,
   "id": "0d8e9f93-f553-43de-9d98-407a0e3327a0",
   "metadata": {},
   "outputs": [],
   "source": [
    "def Hamiltonian_DVR(a, b, dx): # DVR method for finding bound states\n",
    "    N = int((b-a)/dx) # Number of grid points\n",
    "    ipaper = np.arange(1,N, 1.0) # indexing from the paper, given i = 1,2,...,N-1\n",
    "    x = a + dx*ipaper # grid from paper\n",
    "    Vx = C12/(x**12) - C6/(x**6) # Lennard-Jones potential\n",
    "    Vx = np.insert(Vx,0,0) # Insert a 0 at the 0th index of list to account for mismatched indexing\n",
    "\n",
    "    #print(f' ipaper = {ipaper}')\n",
    "    #print(f' x = {x}')\n",
    "    print(f' N - 1 = {N-1}')\n",
    "    #print(f' len(x) = {len(x)}')\n",
    "    #print(x[-1]/(b-dx))\n",
    "    #print(x[0]/(a+dx))\n",
    "    #print(f' dx = {dx}')\n",
    "    #print(f'dx from grid  = {x[1] - x[0]}')\n",
    "    #print(Vx[len(Vx) - 1]/(0.5*(b - dx - d)**2))\n",
    "\n",
    "    H_DVR = np.zeros((len(x), len(x))) # Initialize empty Hamiltonian matrix of size N-1 x N-1\n",
    "    Vmat = np.zeros((len(x) + 10, len(x) + 10))\n",
    "    Tmat = np.zeros((len(x) + 10, len(x) + 10))\n",
    "\n",
    "\n",
    "    for i in ipaper:\n",
    "        for j in ipaper:\n",
    "            if int(i) == int(j): # fill in diagonal components of the Hamiltonian\n",
    "                prefactorii = (np.pi**2)/(4*mu*(b-a)**2)\n",
    "                bracketii = ((2*N**2 + 1)/3) - (1/((np.sin(np.pi*(i/N)))**2))\n",
    "                \n",
    "                Tmat[int(i)][int(j)] = prefactorii*bracketii\n",
    "                Vmat[int(i)][int(j)] = Vx[int(j)]\n",
    "                \n",
    "                H_DVR[int(i) - 1][int(j) - 1] = Tmat[int(i)][int(j)] + Vmat[int(i)][int(j)]\n",
    "            \n",
    "            if i != j: # fill in off-diagonal components of the Hamiltonian\n",
    "                diff = i - j\n",
    "                prefactorij = ((-1)**(diff))*(np.pi**2)/(4*mu*(b-a)**2)\n",
    "                bracketij = (1/((np.sin(np.pi*((diff)/(2*N))))**2)) - (1/((np.sin(np.pi*((i+j)/(2*N))))**2))\n",
    "                Tmat[int(i)][int(j)] = prefactorij*bracketij               \n",
    "                \n",
    "                H_DVR[int(i) - 1][int(j) - 1] = Tmat[int(i)][int(j)]\n",
    "                \n",
    "    #assert(np.allclose(H_DVR, np.transpose(H_DVR)))\n",
    "    #print(f' H = {H}')\n",
    "    return H_DVR"
   ]
  },
  {
   "cell_type": "code",
   "execution_count": null,
   "id": "63aceb78-0c29-40e0-913b-a2b313785109",
   "metadata": {},
   "outputs": [],
   "source": [
    "a1 = 4.5\n",
    "b1 = 100\n",
    "dx1 = 0.01\n",
    "\n",
    "N1 = int((b1-a1)/dx1) # Number of grid points\n",
    "ipap = np.arange(1,N1, 1.0) # indexing from the paper, given i = 1,2,...,N-1\n",
    "x1 = a1 + dx1*ipap\n",
    "\n",
    "\n",
    "VLJ = C12/(x1**12) - C6/(x1**6)\n",
    "Vmin = min(VLJ)\n",
    "\n",
    "H = Hamiltonian_DVR(a1, b1, dx1)"
   ]
  },
  {
   "cell_type": "code",
   "execution_count": null,
   "id": "7cc75d06-31e9-4c82-97c9-4d48249fd38e",
   "metadata": {},
   "outputs": [],
   "source": [
    "Heig = np.linalg.eigh(H)[0]\n",
    "print(f'there are {len(Heig[Heig<0])} bound states')\n",
    "\n",
    "Eigvec = np.linalg.eigh(H)[1]\n",
    "Hvec = []\n",
    "for i in range(len(H[0])):\n",
    "    avec = Eigvec[:,i]\n",
    "    Hvec.append(avec)\n",
    "for i in range(len(Hvec)):\n",
    "    INT = np.trapz(np.abs(Hvec[i])**2,x1)\n",
    "    A = 1/np.sqrt(INT)\n",
    "    Hvec[i] = A*Hvec[i]"
   ]
  },
  {
   "cell_type": "markdown",
   "id": "a257e90e-cc23-471d-87cd-43791978f62e",
   "metadata": {},
   "source": [
    "# Normalization check for bound eigenstates\n",
    "# $ \\braket{\\varphi_{n}|\\varphi_{m}} = \\delta_{nm} = \\int_a^b \\varphi^*_{n}\\varphi_{m}\\,dx$"
   ]
  },
  {
   "cell_type": "code",
   "execution_count": 41,
   "id": "3cbfdc1b-ca8a-471b-8de9-5eb134899eff",
   "metadata": {},
   "outputs": [
    {
     "ename": "NameError",
     "evalue": "name 'Heig' is not defined",
     "output_type": "error",
     "traceback": [
      "\u001b[1;31m---------------------------------------------------------------------------\u001b[0m",
      "\u001b[1;31mNameError\u001b[0m                                 Traceback (most recent call last)",
      "Cell \u001b[1;32mIn[41], line 1\u001b[0m\n\u001b[1;32m----> 1\u001b[0m \u001b[38;5;28;01mfor\u001b[39;00m i \u001b[38;5;129;01min\u001b[39;00m \u001b[38;5;28mrange\u001b[39m(\u001b[38;5;28mlen\u001b[39m(Heig[Heig \u001b[38;5;241m<\u001b[39m \u001b[38;5;241m0\u001b[39m])): \u001b[38;5;66;03m# run through all eigenvectors corresponding to bound states\u001b[39;00m\n\u001b[0;32m      2\u001b[0m     \u001b[38;5;28;01mfor\u001b[39;00m j \u001b[38;5;129;01min\u001b[39;00m \u001b[38;5;28mrange\u001b[39m(\u001b[38;5;28mlen\u001b[39m(Heig[Heig \u001b[38;5;241m<\u001b[39m \u001b[38;5;241m0\u001b[39m])): \u001b[38;5;66;03m# run through all other eigenvectors corresponding to bound states\u001b[39;00m\n\u001b[0;32m      4\u001b[0m         \u001b[38;5;28;01mif\u001b[39;00m i \u001b[38;5;241m==\u001b[39m j: \u001b[38;5;66;03m# inner product should be close to 1\u001b[39;00m\n",
      "\u001b[1;31mNameError\u001b[0m: name 'Heig' is not defined"
     ]
    }
   ],
   "source": [
    "for i in range(len(Heig[Heig < 0])): # run through all eigenvectors corresponding to bound states\n",
    "    for j in range(len(Heig[Heig < 0])): # run through all other eigenvectors corresponding to bound states\n",
    "        \n",
    "        if i == j: # inner product should be close to 1\n",
    "            phi_n = np.conjugate(Hvec[i])\n",
    "            phi_m = Hvec[j]\n",
    "            produit = phi_n*phi_m\n",
    "            InnerProduct = np.trapz(produit, x1)\n",
    "            assert(InnerProduct - 1 <= tol)\n",
    "\n",
    "        if i != j: # inner product should be close to 0\n",
    "            phi_n = np.conjugate(Hvec[i])\n",
    "            phi_m = Hvec[j]\n",
    "            produit = phi_n*phi_m\n",
    "            InnerProduct = np.trapz(produit, x1)\n",
    "            assert(InnerProduct <= tol)"
   ]
  },
  {
   "cell_type": "markdown",
   "id": "26ed0a20-db01-407c-957f-4980b0a0f76f",
   "metadata": {},
   "source": [
    "# DVR example - Lennard Jones"
   ]
  },
  {
   "cell_type": "code",
   "execution_count": 80,
   "id": "1452f40b-218d-4d78-99c6-b2694c016a3a",
   "metadata": {},
   "outputs": [
    {
     "name": "stdout",
     "output_type": "stream",
     "text": [
      " N - 1 = 9549\n"
     ]
    }
   ],
   "source": [
    "a1 = 4.5\n",
    "b1 = 100\n",
    "dx1 = 0.01\n",
    "\n",
    "N1 = int((b1-a1)/dx1) # Number of grid points\n",
    "ipap = np.arange(1,N1, 1.0) # indexing from the paper, given i = 1,2,...,N-1\n",
    "x1 = a1 + dx1*ipap\n",
    "\n",
    "\n",
    "VLJ = C12/(x1**12) - C6/(x1**6)\n",
    "Vmin = min(VLJ)\n",
    "\n",
    "H = Hamiltonian_DVR(a1, b1, dx1)"
   ]
  },
  {
   "cell_type": "code",
   "execution_count": 81,
   "id": "66347706-c77e-4b1b-90f2-53d9452bfc7d",
   "metadata": {},
   "outputs": [
    {
     "name": "stdout",
     "output_type": "stream",
     "text": [
      "for b = 100, there are 90 bound states\n"
     ]
    }
   ],
   "source": [
    "Heig = np.linalg.eigh(H)[0]\n",
    "print(f'for b = {b1}, there are {len(Heig[Heig<0])} bound states')\n",
    "Eigvec = np.linalg.eigh(H)[1]\n",
    "Hvec = []\n",
    "for i in range(len(H[0])):\n",
    "    avec = Eigvec[:,i]\n",
    "    Hvec.append(avec)\n",
    "for i in range(len(Hvec)):\n",
    "    INT = np.trapz(np.abs(Hvec[i])**2,x1)\n",
    "    A = 1/np.sqrt(INT)\n",
    "    Hvec[i] = A*Hvec[i]"
   ]
  },
  {
   "cell_type": "code",
   "execution_count": 112,
   "id": "c697a068-f641-4841-822b-36baf726dc52",
   "metadata": {},
   "outputs": [
    {
     "data": {
      "text/plain": [
       "(5.0, 14.0)"
      ]
     },
     "execution_count": 112,
     "metadata": {},
     "output_type": "execute_result"
    },
    {
     "data": {
      "image/png": "[encoded data removed]",
      "text/plain": [
       "<Figure size 640x480 with 1 Axes>"
      ]
     },
     "metadata": {},
     "output_type": "display_data"
    }
   ],
   "source": [
    "plt.hlines(0,min(x1), max(x1), color = 'black')\n",
    "plt.plot(x1, VLJ, color = 'purple')\n",
    "for i in range(20):\n",
    "    if i % 2 == 0:\n",
    "        plt.plot(x1, 0.0005*np.abs(Hvec[i])**2 + Heig[i], label=f'n={i}')\n",
    "\n",
    "plt.ylim(-0.02, 0.001)\n",
    "plt.xlim(5,14)\n",
    "#plt.legend()"
   ]
  },
  {
   "cell_type": "code",
   "execution_count": 114,
   "id": "f29f635b-32ed-4fb4-a19c-ff9c290adf1d",
   "metadata": {},
   "outputs": [],
   "source": [
    "for i in range(len(Heig[Heig < 0])): # run through all eigenvectors corresponding to bound states\n",
    "    for j in range(len(Heig[Heig < 0])): # run through all other eigenvectors corresponding to bound states\n",
    "        \n",
    "        if i == j: # inner product should be close to 1\n",
    "            phi_n = np.conjugate(Hvec[i])\n",
    "            phi_m = Hvec[j]\n",
    "            produit = phi_n*phi_m\n",
    "            InnerProduct = np.trapz(produit, x1)\n",
    "            assert(InnerProduct - 1 <= tol)\n",
    "\n",
    "        if i != j: # inner product should be close to 0\n",
    "            phi_n = np.conjugate(Hvec[i])\n",
    "            phi_m = Hvec[j]\n",
    "            produit = phi_n*phi_m\n",
    "            InnerProduct = np.trapz(produit, x1)\n",
    "            assert(InnerProduct <= tol)"
   ]
  },
  {
   "cell_type": "markdown",
   "id": "604eb2ca-20eb-401c-b613-14fa0e4f07f1",
   "metadata": {},
   "source": [
    "# Numerov Algorithm for continuum states (E > 0)"
   ]
  },
  {
   "cell_type": "markdown",
   "id": "63ac599a-de2e-4d94-8c05-cd390eee28b3",
   "metadata": {},
   "source": [
    "## Schrodinger in au: -$\\frac{1}{2\\mu  }\\frac{d^2\\psi}{dr^2} + (\\frac{l(l+1)}{2\\mu r^2} + V(r))\\psi = E\\psi$ \n",
    "## $\\psi'' = -2\\mu(E - \\frac{l(l+1)}{2\\mu r^2} - V(r))\\psi$\n",
    "## $\\implies \\psi'' + 2\\mu(E - \\frac{l(l+1)}{2\\mu r^2} - V(r))\\psi = 0$\n",
    "## $\\psi'' + k^2(r)\\psi = 0$\n",
    "## define  $k^2(r) = 2\\mu(E - V(r) - \\frac{l(l+1)}{2\\mu r^2})$\n",
    "\n",
    "## $\\psi(r_{n + 1}) - 2\\psi(r_{n}) + \\psi(r_{n - 1})  + k^2(r_{n})\\psi(r_{n}) = 0$\n",
    "\n",
    "\n",
    "## $\\psi(r_{n+1}) = \\frac{2(1-\\frac{5}{12}(dr)^2k^2_{n})\\psi_{n} - (1 + \\frac{1}{12}(dr)^2k^2_{n-1})\\psi_{n-1}}{1 + \\frac{1}{12}(dr)^2k^2_{n+1}}    $"
   ]
  },
  {
   "cell_type": "code",
   "execution_count": 28,
   "id": "a688e61b-740f-4d81-b028-e13eaffbd141",
   "metadata": {},
   "outputs": [],
   "source": [
    "def Numerov(Energy, N): # function to find psi(r)\n",
    "    psi[0] = 0 # impose boundary condition psi(0) = 0\n",
    "    psi[1] = dr # let psi(1) = the spacing length\n",
    "    #print(f' psi[1] = {psi[1]}')\n",
    "    ksq = 2*mu*(Energy - Vr) # wave number squared for the energy\n",
    "\n",
    "    for i in range(2,N):  # Numerov Algorithm, range is 2 -> N since psi(0), psi(1) already set\n",
    "        #if i < 100:\n",
    "         #   print(f' first term in numerator is {(2*(1 - (5/12)*(dr**2)*k[i-1])*psi[i-1])}')\n",
    "        psi[i] = ((2*(1 - (5/12)*(dr**2)*ksq[i-1])*psi[i-1]) - ((1 + (1/12)*(dr**2)*ksq[i-2])*psi[i-2]))/(1 + (1/12)*(dr**2)*ksq[i])\n",
    "    Psi_f = psi/max(psi)\n",
    "    \n",
    "\n",
    "            \n",
    "    return Psi_f"
   ]
  },
  {
   "cell_type": "markdown",
   "id": "dabed219-3449-426b-a02e-dd9b3b2e3dc9",
   "metadata": {},
   "source": [
    "# Numerov Example - Lennard Jones with E = $1\\mu K$"
   ]
  },
  {
   "cell_type": "code",
   "execution_count": 35,
   "id": "1741c8d0-caff-498b-a697-8f7b0abb4d73",
   "metadata": {},
   "outputs": [
    {
     "data": {
      "text/plain": [
       "<matplotlib.legend.Legend at 0x1b317a9bb00>"
      ]
     },
     "execution_count": 35,
     "metadata": {},
     "output_type": "execute_result"
    },
    {
     "data": {
      "image/png": "[encoded data removed]",
      "text/plain": [
       "<Figure size 640x480 with 1 Axes>"
      ]
     },
     "metadata": {},
     "output_type": "display_data"
    }
   ],
   "source": [
    "psi = np.zeros(pts)  # initializing psi(r) as array of zeros\n",
    "Psi_1 = Numerov(Eo, pts) # wave function Psi\n",
    "psi_1prime = np.gradient(Psi_1, r) # first posistion derivate of wave function Psi\n",
    "plt.plot(r, Psi_1, label = f' $\\\\psi(r)$', color = 'red') \n",
    "#plt.plot(r, Vr*1e0, label = 'Scaled Lennard-Jones Potential', color = 'purple')\n",
    "plt.xlabel('$ interatomic$ $distance$ $r$ $(a_{o})$')\n",
    "plt.ylabel('$\\\\psi(r)$ ($\\\\frac{1}{\\\\sqrt{a_{o}}}$)')\n",
    "plt.legend()"
   ]
  },
  {
   "cell_type": "markdown",
   "id": "65ed7053-a246-4bcc-a123-38cbb4e67986",
   "metadata": {},
   "source": [
    "# Other Algorithms"
   ]
  },
  {
   "cell_type": "markdown",
   "id": "531c8629-28da-417e-bfe2-686b6d5353a9",
   "metadata": {},
   "source": [
    "# Scattering length definition"
   ]
  },
  {
   "cell_type": "markdown",
   "id": "b1ef64ad-d433-4c7a-a5f8-09125a6d470e",
   "metadata": {},
   "source": [
    "## $ -\\frac{1}{a_{s}} =   \\ lim_{k \\to 0} (kcot\\delta)$\n",
    "## $ k = \\sqrt{2\\mu(E - V(r))} $\n",
    "## $a_{s} =  \\sqrt{\\frac{\\sigma}{\\pi}}$ given $(E\\ll Vo)$\n",
    "## $\\delta = k(r)a_{s}$ given $(E\\ll Vo)$\n"
   ]
  },
  {
   "cell_type": "markdown",
   "id": "87b62bda-df5c-48d8-96c0-39f919e4d48a",
   "metadata": {},
   "source": [
    "# Finding the scattering phase shift $\\delta$ "
   ]
  },
  {
   "cell_type": "markdown",
   "id": "921d233c-4830-4f06-bb8e-fb0e2a6c6cef",
   "metadata": {},
   "source": [
    "## $\\psi(r) = sin(kr + \\delta), \\frac{d\\psi}{dr} = kcos(kr + \\delta)$\n",
    "## $\\frac{\\psi}{\\frac{d\\psi}{dr}} = \\frac{1}{k}tan(kr + \\delta)$\n",
    "## $tan^{-1}(\\frac{k\\psi_{n}}{\\frac{d\\psi_{n}}{dr}}) = kr + \\delta$\n",
    "## $\\delta = tan^{-1}(\\frac{k\\psi_{n}}{\\frac{d\\psi_{n}}{dr}}) - kr $\n",
    "## $\\delta = tan^{-1}(\\frac{k\\psi_{n}}{\\frac{d\\psi_{n}}{dr}}) - kr $"
   ]
  },
  {
   "cell_type": "code",
   "execution_count": null,
   "id": "4254c9a3-9ae9-439b-a1a2-7b1570233833",
   "metadata": {},
   "outputs": [],
   "source": [
    "Delta_numeric = []\n",
    "knsq = []\n",
    "as_delta = []\n",
    "for j in range(N):\n",
    "    for i in range(N):\n",
    "        ksq = 2*mu*(E[i] - Vr)\n",
    "        knsq.append(ksq[-1])\n",
    "        PSI = wavefunction(E[i],N) # wave function to find using Numerov\n",
    "        PSI_prime = np.gradient(PSI, r) # find derivative of PSI Numerov\n",
    "        Delta = np.arctan((np.sqrt(ksq)*PSI)/(PSI_prime)) - np.sqrt(ksq)*r\n",
    "        Delta_numeric.append(Delta[-1])\n",
    "        as_delta.append(Delta_numeric[-1]/np.sqrt(knsq[-1]))"
   ]
  },
  {
   "cell_type": "markdown",
   "id": "aa683d86-54ca-40b2-ae1b-075f2079b917",
   "metadata": {},
   "source": [
    "# Scattering Cross Section $ \\sigma $"
   ]
  },
  {
   "cell_type": "markdown",
   "id": "3eef56d1-3c31-41a2-99b7-10b22739e9fe",
   "metadata": {},
   "source": [
    "## $\\sigma = \\frac{\\pi}{k^2} sin^2(\\delta)$"
   ]
  },
  {
   "cell_type": "markdown",
   "id": "5aafaae7-5738-4d1e-8786-9898f5cbe0db",
   "metadata": {},
   "source": [
    "# Harmonic Oscillator DVR"
   ]
  },
  {
   "cell_type": "code",
   "execution_count": null,
   "id": "a066d7ba-7a02-4174-8359-a0a875e446f5",
   "metadata": {},
   "outputs": [],
   "source": [
    "def Hamiltonian_DVR(dx, Vc):\n",
    "    # Build the Hamiltonian Matrix for Harmonic Oscillator using DVR\n",
    "    # Takes in a xmin and xmax to build a grid, a spacing dx, and a cutoff energy Vc\n",
    "    \n",
    "    N = int(2*np.sqrt(2*Vc)*(1/dx)) # Number of pts\n",
    "    if N % 2 == 0: # require N odd for symmetry around 0\n",
    "        N += 1\n",
    "        \n",
    "    xmin = -1*np.sqrt(2*Vc) # xmin determined by Vc\n",
    "    xmax = np.sqrt(2*Vc) # xmax determined by Vc\n",
    "    xp = np.linspace(xmin, xmax, N) # box to determine Hamiltonian\n",
    "    H_DVR = np.zeros((len(xp),len(xp))) # Initialize an empty matrix of zeros\n",
    "\n",
    "    #print(f' shape of xp = {print(xp)}')\n",
    "    #print(f' shape of H = {H_DVR.shape}')\n",
    "    #print(H_DVR[0][0:3])\n",
    "    #print(f' N = {N}')\n",
    "    #print(f' len(xp) = {len(xp)}')\n",
    "    #print(f' len(H) = {len(H_DVR)}, len(H[0]) = {len(H_DVR[0])}')\n",
    "    #print(f' iterator range is {2*max(range(len(xp)/2), int(len(xp)/2) + 1))}')\n",
    "\n",
    "    offset = int(len(xp)/2) # offset to ensure mapping is correct\n",
    "\n",
    "    # NOTE on OFFSET: Since i = 0, +-1, +-2, ... we have to add offset so that when we index w/ numpy we correctly map the values, ie -n -> 0, -n + 1 -> 1, since Numpy starts its count at i=0\n",
    "    \n",
    "    for i in range(-1*int(len(xp)/2), int(len(xp)/2) + 1): # let i be the rows, start on a row, from -len(xp)/2 to len(xp)/2\n",
    "        \n",
    "        for j in range(-1*int(len(xp)/2), int(len(xp)/2) + 1): # Let j be the columns, for a given row i, run along columns and calculate Hij\n",
    "            \n",
    "            if i == j: # This will calculate diagonal components of H\n",
    "                H_DVR[i + offset][j + offset] = (np.pi**2)*(1/6)*(1/(dx**2)) + (xp[i + offset]**2)*0.5 # Fill out diagonal elements according to DVR method\n",
    "            \n",
    "            if i != j: # This will calculate off-diagonal components of H\n",
    "                H_DVR[i + offset][j + offset] = ((-1)**(i-j))*(1/(dx**2))*(1/((i-j)**2)) # Fill out off diagonal elements according to DVR method\n",
    "\n",
    "    assert(np.allclose(H_DVR, np.transpose(H_DVR))) # Assert Hamilitonian is real symmetric\n",
    "        \n",
    "\n",
    "    return H_DVR"
   ]
  },
  {
   "cell_type": "markdown",
   "id": "636487f4-7bcf-46fc-85ec-89af399503eb",
   "metadata": {},
   "source": [
    "# Normalization Condition for positive eigenvalues, with different check"
   ]
  },
  {
   "cell_type": "code",
   "execution_count": null,
   "id": "2c3a6d9d-f8fd-4fbe-98df-8930eb6e2f10",
   "metadata": {},
   "outputs": [],
   "source": [
    "for i in range(len(Heig)): # run through all eigenvectors corresponding to bound states\n",
    "    for j in range(len(Heig)): # run through all other eigenvectors corresponding to bound states\n",
    "        \n",
    "        if i == j: # inner product should be close to 1\n",
    "            phi_n = np.conjugate(Hvec[i])\n",
    "            phi_m = Hvec[j]\n",
    "            produit = phi_n*phi_m\n",
    "            InnerProduct = np.trapz(produit, xpp)\n",
    "            if InnerProduct - 1 >= tol:\n",
    "                print(f' (n,m) = {(i,j)}')\n",
    "                print(f'same indices no longer 1')\n",
    "                break\n",
    "\n",
    "        if i != j: # inner product should be close to 0\n",
    "            phi_n = np.conjugate(Hvec[i])\n",
    "            phi_m = Hvec[j]\n",
    "            produit = phi_n*phi_m\n",
    "            InnerProduct = np.trapz(produit, xpp)\n",
    "            if InnerProduct >= tol:\n",
    "                print(f' (n,m) = {(i,j)}')\n",
    "                print(f'different indices no longer 0')\n",
    "                break"
   ]
  }
 ],
 "metadata": {
  "kernelspec": {
   "display_name": "Python 3 (ipykernel)",
   "language": "python",
   "name": "python3"
  },
  "language_info": {
   "codemirror_mode": {
    "name": "ipython",
    "version": 3
   },
   "file_extension": ".py",
   "mimetype": "text/x-python",
   "name": "python",
   "nbconvert_exporter": "python",
   "pygments_lexer": "ipython3",
   "version": "3.12.4"
  }
 },
 "nbformat": 4,
 "nbformat_minor": 5
}
