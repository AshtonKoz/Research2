{
 "cells": [
  {
   "cell_type": "code",
   "execution_count": 1,
   "id": "dcbeacfa-8346-4907-8412-0f90d6530fe7",
   "metadata": {},
   "outputs": [],
   "source": [
    "import numpy as np\n",
    "import matplotlib.pyplot as plt\n",
    "import math\n",
    "import cmath"
   ]
  },
  {
   "cell_type": "code",
   "execution_count": 3,
   "id": "1da353d8-4d71-4567-9558-4fd3afe12e72",
   "metadata": {},
   "outputs": [],
   "source": [
    "def Current(V,R):\n",
    "    I = V/R\n",
    "    return I\n",
    "def Resistance(V,I):\n",
    "    R = V/I\n",
    "    return R\n",
    "def Voltage(R,I):\n",
    "    V = I*R\n",
    "    return V"
   ]
  },
  {
   "cell_type": "code",
   "execution_count": 4,
   "id": "59363972-7d73-40d7-a87f-4562c5f262af",
   "metadata": {},
   "outputs": [],
   "source": [
    "def R_series(resistances_s):\n",
    "    R_s = 0\n",
    "    for resistance in resistances_s:\n",
    "        R_s += resistance\n",
    "    return R_s\n",
    "some_rp = (10, 10)\n",
    "def R_parallel(resistances_p):\n",
    "    R_tot = 0\n",
    "    for resistance in resistances_p:\n",
    "        R_tot += 1/resistance\n",
    "    R_p = 1/R_tot\n",
    "    return R_p"
   ]
  },
  {
   "cell_type": "code",
   "execution_count": 5,
   "id": "59b9b9ec-2910-4f7b-8845-4f4a55cad3c7",
   "metadata": {},
   "outputs": [],
   "source": [
    "#2.2.3\n",
    "def Vout_ideal(Vin, R1, R2):\n",
    "    Vout = Vin*(R2/(R1+R2))\n",
    "    return Vout\n"
   ]
  },
  {
   "cell_type": "code",
   "execution_count": 6,
   "id": "ed894fcb-3e98-452d-9146-db3fa0cc0a4e",
   "metadata": {},
   "outputs": [],
   "source": [
    "#2.5.2\n",
    "def Vout_nonideal(Vint, R0, R1, R2):\n",
    "    Vout = Vint*(R2/(R1+R2+R0))\n",
    "    return Vout"
   ]
  },
  {
   "cell_type": "code",
   "execution_count": 7,
   "id": "8d543a33-5848-4901-a571-fa9229a36275",
   "metadata": {},
   "outputs": [
    {
     "name": "stdout",
     "output_type": "stream",
     "text": [
      "[3.333333333333333, 3.333333333333333, 3.333333333333333] [2.5, 3.2786885245901636, 3.332777870354941]\n"
     ]
    }
   ],
   "source": [
    "Vint = 10\n",
    "R0 = 50\n",
    "R1 = (100, 2000, 200000)\n",
    "R2 = (50,1000,100000)\n",
    "Vouts_id = []\n",
    "Vouts_un = []\n",
    "i = 0\n",
    "while i < 3:\n",
    "    y = Vout_ideal(Vint, R1[i], R2[i])\n",
    "    x = Vout_nonideal(Vint, R0, R1[i], R2[i])\n",
    "    Vouts_id.append(y)\n",
    "    Vouts_un.append(x)\n",
    "    i += 1\n",
    "print(Vouts_id, Vouts_un)   \n",
    "#print(R2)"
   ]
  },
  {
   "cell_type": "code",
   "execution_count": 8,
   "id": "16269a80-30f7-46da-bb78-7e469b845289",
   "metadata": {},
   "outputs": [],
   "source": [
    "#2.6.1\n",
    "def parallel_impedence_R3(Vin,Vout,R1,R2):\n",
    "    num = R1*R2*Vin\n",
    "    den = Vin*R2 + (-1*R2*Vout) + (-1*R1*Vout)\n",
    "    R3 = num/den\n",
    "    return(R3)"
   ]
  },
  {
   "cell_type": "code",
   "execution_count": 9,
   "id": "e5d1c3ae-8e5a-40d6-a9c0-7b93edd35928",
   "metadata": {},
   "outputs": [],
   "source": [
    "j = cmath.sqrt(-1)\n",
    "def T_low_pass_mag_and_phase(R,C,f):\n",
    "    T = 1/(np.sqrt(1+4*(np.pi**2)*(R**2)*(C**2)*(f**2)))\n",
    "    d = -(np.arctan2(2*np.pi*R*C))\n",
    "    return (T,np.deg(d))\n",
    "def T_high_pass_mag_and_phase(R,C,f):\n",
    "    T = (2*np.pi*R*f*C)/(np.sqrt(1+4*(np.pi**2)*(R**2)*(C**2)*(f**2)))\n",
    "    d = np.arctan2(1/(2*np.pi*R*C))\n",
    "    return (T,np.deg(d))\n",
    "def T_bandpass_mag_phase(L, R, C, f):\n",
    "    w = 2*np.pi*f\n",
    "    T = (w*L)/(np.sqrt((R-(w**2)*R*L*C)**2 + (w*L)**2))\n",
    "    d = np.arctan2((R-(w**2)*L*R*C)/(w*L))\n",
    "    return (T,np.deg(d))"
   ]
  },
  {
   "cell_type": "code",
   "execution_count": 10,
   "id": "92aa9144-10fd-4cff-912e-244900c07319",
   "metadata": {},
   "outputs": [
    {
     "ename": "NameError",
     "evalue": "name 'result' is not defined",
     "output_type": "error",
     "traceback": [
      "\u001b[1;31m---------------------------------------------------------------------------\u001b[0m",
      "\u001b[1;31mNameError\u001b[0m                                 Traceback (most recent call last)",
      "Cell \u001b[1;32mIn[10], line 13\u001b[0m\n\u001b[0;32m     10\u001b[0m frequency \u001b[38;5;241m=\u001b[39m np\u001b[38;5;241m.\u001b[39mlogspace(\u001b[38;5;241m0\u001b[39m, \u001b[38;5;241m8\u001b[39m, \u001b[38;5;241m1000\u001b[39m)\n\u001b[0;32m     12\u001b[0m fig, ax \u001b[38;5;241m=\u001b[39m plt\u001b[38;5;241m.\u001b[39msubplots(\u001b[38;5;241m1\u001b[39m, \u001b[38;5;241m1\u001b[39m, figsize\u001b[38;5;241m=\u001b[39m(\u001b[38;5;241m4\u001b[39m, \u001b[38;5;241m3\u001b[39m))\n\u001b[1;32m---> 13\u001b[0m ax\u001b[38;5;241m.\u001b[39mloglog(frequency, function_to_plot(frequency))\n\u001b[0;32m     15\u001b[0m fig, ax \u001b[38;5;241m=\u001b[39m plt\u001b[38;5;241m.\u001b[39msublots(\u001b[38;5;241m1\u001b[39m, \u001b[38;5;241m1\u001b[39m, figsize\u001b[38;5;241m=\u001b[39m(\u001b[38;5;241m4\u001b[39m, \u001b[38;5;241m3\u001b[39m))\n\u001b[0;32m     16\u001b[0m ax\u001b[38;5;241m.\u001b[39mplot(x, y)\n",
      "Cell \u001b[1;32mIn[10], line 6\u001b[0m, in \u001b[0;36mfunction_to_plot\u001b[1;34m(frequency)\u001b[0m\n\u001b[0;32m      4\u001b[0m \u001b[38;5;28;01mdef\u001b[39;00m \u001b[38;5;21mfunction_to_plot\u001b[39m(frequency):\n\u001b[0;32m      5\u001b[0m     \u001b[38;5;66;03m# code to compute function\u001b[39;00m\n\u001b[1;32m----> 6\u001b[0m     \u001b[38;5;28;01mreturn\u001b[39;00m result\n",
      "\u001b[1;31mNameError\u001b[0m: name 'result' is not defined"
     ]
    },
    {
     "data": {
      "image/png": "[encoded data removed]",
      "text/plain": [
       "<Figure size 400x300 with 1 Axes>"
      ]
     },
     "metadata": {},
     "output_type": "display_data"
    }
   ],
   "source": [
    "import numpy as np\n",
    "import matplotlib.pylab as plt\n",
    "\n",
    "def function_to_plot(frequency):\n",
    "    # code to compute function\n",
    "    return result\n",
    "\n",
    "# create an array frequencies, evenly spaced on a log scale\n",
    "# this will range from 10^0 to 10^8\n",
    "frequency = np.logspace(0, 8, 1000)\n",
    "\n",
    "fig, ax = plt.subplots(1, 1, figsize=(4, 3))\n",
    "ax.loglog(frequency, function_to_plot(frequency))\n",
    "\n",
    "fig, ax = plt.sublots(1, 1, figsize=(4, 3))\n",
    "ax.plot(x, y)\n",
    "ax.set_xscale('log')\n",
    "ax.set_yscale('log')"
   ]
  },
  {
   "cell_type": "code",
   "execution_count": null,
   "id": "587b0a84-7139-4fc5-9235-2eabe2785992",
   "metadata": {},
   "outputs": [],
   "source": [
    "import matplotlib.pylab as plt\n",
    "import matplotlib\n",
    "%matplotlib widget\n",
    "matplotlib.rcParams['mathtext.fontset'] = 'cm'\n",
    "matplotlib.rcParams['font.family'] = 'STIXGeneral'\n",
    "\n",
    "\"\"\"set your component values here\"\"\"\n",
    "\n",
    "frequency = np.logspace(2, 6, 100)\n",
    "\n",
    "\"\"\"Calculate gain and phase shift\"\"\"\n",
    "gain, phase_shift = low_pass(r, c, frequency)\n",
    "# or\n",
    "gain = low_pass_gain(r, c, frequency)\n",
    "phase_shift = low_pass_phase(r, c, frequency)\n",
    "\n",
    "fig, ax1 = plt.subplots(1, 1, figsize=(4, 3))\n",
    "\n",
    "ax1.set_xlabel('Frequency (Hz)')\n",
    "ax1.set_ylabel('gain')\n",
    "ax1.plot(frequency, gain, color='b', label=\"gain\")\n",
    "ax1.set_xscale('log')\n",
    "ax1.set_yscale('log')\n",
    "ax1.set_title('Low-pass filter')\n",
    "ax1.tick_params(axis='both', which='both', direction='in', top=True, right=True)\n",
    "ax1.set_xlim(1e2, 1e6)\n",
    "ax1.grid(axis='both', linestyle='dotted')\n",
    "\n",
    "ax2 = ax1.twinx()\n",
    "ax2.tick_params(axis='y', which='both', direction='in', top=True, right=True)\n",
    "ax2.set_yticks(np.arange(-90, 1, 10))\n",
    "ax2.set_yticks(np.arange(-90, 1, 2), minor=True)\n",
    "\n",
    "ax2.set_ylabel('phase shift $(\\\\degree)$')\n",
    "ax2.plot(frequency, phase_shift, color='b', linestyle='dashed', label=\"phase\")\n",
    "fig.legend(loc=\"lower left\", bbox_to_anchor=(0.11, 0.15))\n",
    "\n",
    "fig.tight_layout()"
   ]
  },
  {
   "cell_type": "code",
   "execution_count": null,
   "id": "5e13f8c1-5703-4288-832d-4b998637834f",
   "metadata": {},
   "outputs": [],
   "source": [
    "def percent_error(Va, Ve):\n",
    "    d = np.abs((Va-Ve)/Ve)\n",
    "    return d*100"
   ]
  },
  {
   "cell_type": "code",
   "execution_count": 17,
   "id": "0f971fc7-b28a-4aca-92ae-8d08b242b16f",
   "metadata": {},
   "outputs": [
    {
     "name": "stdout",
     "output_type": "stream",
     "text": [
      "0\n",
      "1111111111\n"
     ]
    }
   ],
   "source": [
    "#3.5.1\n",
    "#2\n",
    "def dec_to_bin(int):\n",
    "    binary_num = np.binary_repr(int)\n",
    "    return binary_num\n",
    "print(dec_to_bin(0))\n",
    "print(dec_to_bin(1023))"
   ]
  },
  {
   "cell_type": "code",
   "execution_count": 33,
   "id": "ad38f090-cdae-44a3-a63f-558303ebd1c5",
   "metadata": {},
   "outputs": [
    {
     "name": "stdout",
     "output_type": "stream",
     "text": [
      "8640.0\n",
      "\n"
     ]
    }
   ],
   "source": [
    "print(Resistance(14.4,1/600))\n",
    "print()"
   ]
  },
  {
   "cell_type": "code",
   "execution_count": null,
   "id": "9e0108ac-2d4b-4ed9-aa43-5d01d47e5008",
   "metadata": {},
   "outputs": [],
   "source": []
  }
 ],
 "metadata": {
  "kernelspec": {
   "display_name": "Python 3 (ipykernel)",
   "language": "python",
   "name": "python3"
  },
  "language_info": {
   "codemirror_mode": {
    "name": "ipython",
    "version": 3
   },
   "file_extension": ".py",
   "mimetype": "text/x-python",
   "name": "python",
   "nbconvert_exporter": "python",
   "pygments_lexer": "ipython3",
   "version": "3.12.4"
  }
 },
 "nbformat": 4,
 "nbformat_minor": 5
}
